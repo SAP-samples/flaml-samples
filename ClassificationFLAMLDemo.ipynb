{
 "cells": [
  {
   "cell_type": "markdown",
   "id": "85018d99-8dfc-4b1a-b499-dbaaa4d5e562",
   "metadata": {},
   "source": [
    "# Classification Example"
   ]
  },
  {
   "cell_type": "markdown",
   "id": "2b77d578-665f-4616-a12c-425dbe040f69",
   "metadata": {},
   "source": [
    "Using purchase order data to determine whether or not a purchase order will be accepted or rejected."
   ]
  },
  {
   "cell_type": "markdown",
   "id": "d26b38ca-1e7d-427c-a92b-af09251cce87",
   "metadata": {},
   "source": [
    "## Install"
   ]
  },
  {
   "cell_type": "code",
   "execution_count": null,
   "id": "ed186a9e-c671-4c43-8624-ce086bff7081",
   "metadata": {
    "tags": []
   },
   "outputs": [],
   "source": [
    "# !pip install fedml-databricks"
   ]
  },
  {
   "cell_type": "code",
   "execution_count": null,
   "id": "13faab71-de35-4f19-84cc-010d2b446e09",
   "metadata": {
    "tags": []
   },
   "outputs": [],
   "source": [
    "# !pip install flaml"
   ]
  },
  {
   "cell_type": "code",
   "execution_count": null,
   "id": "9a3b9a79-312b-4459-807f-6cf4ca9206fa",
   "metadata": {
    "tags": []
   },
   "outputs": [],
   "source": [
    "# !pip install \"flaml[automl]\""
   ]
  },
  {
   "cell_type": "code",
   "execution_count": null,
   "id": "af6c4d8c-0820-4908-8e75-72ed8fcf88cb",
   "metadata": {
    "tags": []
   },
   "outputs": [],
   "source": [
    "# if the following error occurs: TypeError: XGBClassifier.fit() got an unexpected keyword argument 'callbacks'\n",
    "# error occurs due to version conflicts b/w FLAML and xgboost: https://github.com/microsoft/FLAML/issues/1314\n",
    "\n",
    "# please run the following pip install command to fix the above error:\n",
    "# !pip install --force-reinstall xgboost==2.0.3 \"numpy<2.*\""
   ]
  },
  {
   "cell_type": "markdown",
   "id": "e6891475-cf08-4b3d-8fe9-9c97836a7f0b",
   "metadata": {},
   "source": [
    "## Imports"
   ]
  },
  {
   "cell_type": "code",
   "execution_count": null,
   "id": "5e89d95c-9e7a-4268-b513-d97ef65d5cb4",
   "metadata": {
    "tags": []
   },
   "outputs": [],
   "source": [
    "import pandas as pd\n",
    "from flaml import AutoML\n",
    "from sklearn.model_selection import train_test_split\n",
    "\n",
    "from helpers.fedml import get_data\n",
    "from helpers.automl import infer_problem_type, get_accuracy, get_predictions, BINARY, MULTICLASS, CLASSIFICATION"
   ]
  },
  {
   "cell_type": "markdown",
   "id": "44379b01-86e0-4fc5-9825-bf226ffb6923",
   "metadata": {},
   "source": [
    "## Data Loading and Prep"
   ]
  },
  {
   "cell_type": "code",
   "execution_count": null,
   "id": "671b157d-7314-4d21-a9f7-a468b2933658",
   "metadata": {
    "tags": []
   },
   "outputs": [],
   "source": [
    "# grab fields from request\n",
    "view_name = \"sampled_purchase_requisition_view\"\n",
    "label = \"DecisionFlag\"\n",
    "config_path = \"./config/db_connection.json\""
   ]
  },
  {
   "cell_type": "code",
   "execution_count": null,
   "id": "655805b3-5aba-4c43-b139-40b9001ff088",
   "metadata": {
    "tags": []
   },
   "outputs": [],
   "source": [
    "# create df from view name\n",
    "df, le, encoded_cols = get_data(view_name, config_path)\n",
    "\n",
    "# if you are using the csv provided:\n",
    "# df, le, encoded_cols = get_data(view_name, config_path, csv_path=f\"./data/{view_name}.csv\")"
   ]
  },
  {
   "cell_type": "code",
   "execution_count": null,
   "id": "80e43b6b-52fa-4149-9687-7fe1278b3aba",
   "metadata": {
    "tags": []
   },
   "outputs": [],
   "source": [
    "# extra column in dataset\n",
    "df.drop(columns=[\"column0\"], inplace=True)"
   ]
  },
  {
   "cell_type": "code",
   "execution_count": null,
   "id": "21cad5ef-156d-41da-9a6f-2074ae3ed645",
   "metadata": {
    "tags": []
   },
   "outputs": [],
   "source": [
    "df.head()"
   ]
  },
  {
   "cell_type": "code",
   "execution_count": null,
   "id": "104b91df-bfcf-4c7b-8b7f-7986833c4e91",
   "metadata": {
    "tags": []
   },
   "outputs": [],
   "source": [
    "# create features and labels\n",
    "X = df.drop(columns=[label])\n",
    "y = df[label]"
   ]
  },
  {
   "cell_type": "code",
   "execution_count": null,
   "id": "2ff84bbb-eb17-4b37-bc12-513258748fbf",
   "metadata": {
    "tags": []
   },
   "outputs": [],
   "source": [
    "# for reverse translation on predictions\n",
    "label_encoded = False\n",
    "if label in encoded_cols:\n",
    "    label_encoded = True"
   ]
  },
  {
   "cell_type": "code",
   "execution_count": null,
   "id": "ee84fd2e-bd24-4132-ae8a-ea3fcb37df67",
   "metadata": {
    "tags": []
   },
   "outputs": [],
   "source": [
    "# split the data into training and testing sets\n",
    "X_train, X_test, y_train, y_test = train_test_split(X, y, test_size=0.2, random_state=42)"
   ]
  },
  {
   "cell_type": "markdown",
   "id": "f94f0203-3dde-4450-8e25-acd9c377e2f9",
   "metadata": {},
   "source": [
    "## AutoML"
   ]
  },
  {
   "cell_type": "code",
   "execution_count": null,
   "id": "e0900152-36f8-4737-898a-bf29657b8130",
   "metadata": {
    "tags": []
   },
   "outputs": [],
   "source": [
    "# determine the problem type\n",
    "task = infer_problem_type(y_train)\n",
    "if task == BINARY or task == MULTICLASS:\n",
    "    task = CLASSIFICATION"
   ]
  },
  {
   "cell_type": "code",
   "execution_count": null,
   "id": "bf9d578a-75bf-404d-ae5b-bc5c0d58239c",
   "metadata": {
    "scrolled": true,
    "tags": []
   },
   "outputs": [],
   "source": [
    "# configure and train the model\n",
    "automl = AutoML()\n",
    "automl.fit(X_train, y_train, task=task, time_budget=10)"
   ]
  },
  {
   "cell_type": "code",
   "execution_count": null,
   "id": "1917746c-c0ed-4294-94ca-0f79bf759181",
   "metadata": {
    "tags": []
   },
   "outputs": [],
   "source": [
    "# name of best model\n",
    "best_model_name = automl.best_estimator\n",
    "best_model_name"
   ]
  },
  {
   "cell_type": "code",
   "execution_count": null,
   "id": "b5ae0260-ead9-4563-91a2-cc7ad36b18bd",
   "metadata": {
    "tags": []
   },
   "outputs": [],
   "source": [
    "# grab model accuracy\n",
    "accuracy = get_accuracy(task, automl, X_test, y_test)\n",
    "accuracy"
   ]
  },
  {
   "cell_type": "code",
   "execution_count": null,
   "id": "144a63e9-cab8-467f-8ea6-c6aec27f1e9d",
   "metadata": {
    "tags": []
   },
   "outputs": [],
   "source": [
    "# predict\n",
    "predictions, actual_values = get_predictions(automl, X_test, y_test, le, label_encoded)"
   ]
  },
  {
   "cell_type": "code",
   "execution_count": null,
   "id": "41cc7408-2aa8-4efa-8f57-a56783b1b30c",
   "metadata": {
    "tags": []
   },
   "outputs": [],
   "source": [
    "display_df = pd.DataFrame({\"predictions\": predictions, \"actual_values\": actual_values})\n",
    "display_df[\"Correct\"] = display_df[\"predictions\"] == display_df[\"actual_values\"]\n",
    "display_df.head(5)"
   ]
  },
  {
   "cell_type": "code",
   "execution_count": null,
   "id": "c0ed6323-8e69-4fef-8b57-fbf4974909a4",
   "metadata": {},
   "outputs": [],
   "source": []
  }
 ],
 "metadata": {
  "kernelspec": {
   "display_name": "conda_python3",
   "language": "python",
   "name": "conda_python3"
  },
  "language_info": {
   "codemirror_mode": {
    "name": "ipython",
    "version": 3
   },
   "file_extension": ".py",
   "mimetype": "text/x-python",
   "name": "python",
   "nbconvert_exporter": "python",
   "pygments_lexer": "ipython3",
   "version": "3.10.14"
  }
 },
 "nbformat": 4,
 "nbformat_minor": 5
}
